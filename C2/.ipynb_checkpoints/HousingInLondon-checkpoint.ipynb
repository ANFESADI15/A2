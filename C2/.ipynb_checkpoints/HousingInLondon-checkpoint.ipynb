{
 "cells": [
  {
   "cell_type": "markdown",
   "metadata": {},
   "source": [
    "### Proyecto de Machine Learning"
   ]
  },
  {
   "cell_type": "markdown",
   "metadata": {},
   "source": [
    "👀Verifica que las librerias esten instaladas \n",
    "\n",
    "En este caso se realizará un modelo para predecir la media de precios en las viviendas de los diferentes municipos de Londres, Reino Unido."
   ]
  },
  {
   "cell_type": "code",
   "execution_count": 1,
   "metadata": {},
   "outputs": [],
   "source": [
    "import pandas as pd\n",
    "import numpy as np\n",
    "import matplotlib.pyplot as plt\n",
    "import os\n",
    "from sklearn.model_selection import train_test_split"
   ]
  },
  {
   "cell_type": "markdown",
   "metadata": {
    "tags": []
   },
   "source": [
    "## <span style=\"color:green\">1. Descargar los datos</span>\n",
    "\n",
    "Las bases de datos para este proyecto se puede encontrar en este enlace: https://www.kaggle.com/justinas/housing-in-london\n",
    "\n",
    "También se pueden consultar todas las bases de datos de este curso en GitHub: https://github.com/ANFESADI15/A2/blob/main/C2/archive/housing_in_london_yearly_variables.csv\n",
    "\n",
    "- housing_in_london_yearly_variables.csv, con los datos que necesitamos para hacer la regresión.\n",
    "- London_Borough_Excluding_MHW.shp, con los datos que necesitamos para graficar Londres.\n",
    "- Capitulo_2/housing_in_london_monthly_variables.csv, con los datos de la media salarial"
   ]
  },
  {
   "cell_type": "code",
   "execution_count": 2,
   "metadata": {},
   "outputs": [],
   "source": [
    "## Definimos una función para extraer datos.\n",
    "#DOWNLOAD_ROOT es la base del GitHub donde vamos a estar descargando las bases de datos.\n",
    "DOWNLOAD_ROOT = \"https://raw.githubusercontent.com/ANFESADI15/A2/main/C2/\"\n",
    "#Complementos con la dirección especifica de la base de datos que queremos.\n",
    "LONDON_SALARY = \"MachineLearning_Data-main/MachineLearning_Data-main/Capitulo_2/housing_in_london_yearly_variables.csv\"\n",
    "LONDON_HOUSING = \"MachineLearning_Data-main/MachineLearning_Data-main/Capitulo_2/housing_in_london_monthly_variables.csv\"\n",
    "LONDON_MAP = os.path.abspath(\"\") + \"\\map\\London_Borough_Excluding_MHW.shp\"\n",
    "\n",
    "\n",
    "def extraer_datos(root,database):\n",
    "    csv_path = root + database\n",
    "    return pd.read_csv(csv_path)"
   ]
  },
  {
   "cell_type": "markdown",
   "metadata": {},
   "source": [
    "## <span style=\"color:green\">2. Visualizacion de datos</span>"
   ]
  },
  {
   "cell_type": "code",
   "execution_count": 3,
   "metadata": {},
   "outputs": [
    {
     "data": {
      "text/html": [
       "<div>\n",
       "<style scoped>\n",
       "    .dataframe tbody tr th:only-of-type {\n",
       "        vertical-align: middle;\n",
       "    }\n",
       "\n",
       "    .dataframe tbody tr th {\n",
       "        vertical-align: top;\n",
       "    }\n",
       "\n",
       "    .dataframe thead th {\n",
       "        text-align: right;\n",
       "    }\n",
       "</style>\n",
       "<table border=\"1\" class=\"dataframe\">\n",
       "  <thead>\n",
       "    <tr style=\"text-align: right;\">\n",
       "      <th></th>\n",
       "      <th>code</th>\n",
       "      <th>area</th>\n",
       "      <th>date</th>\n",
       "      <th>median_salary</th>\n",
       "      <th>life_satisfaction</th>\n",
       "      <th>mean_salary</th>\n",
       "      <th>recycling_pct</th>\n",
       "      <th>population_size</th>\n",
       "      <th>number_of_jobs</th>\n",
       "      <th>area_size</th>\n",
       "      <th>no_of_houses</th>\n",
       "      <th>borough_flag</th>\n",
       "    </tr>\n",
       "  </thead>\n",
       "  <tbody>\n",
       "    <tr>\n",
       "      <th>0</th>\n",
       "      <td>E09000001</td>\n",
       "      <td>city of london</td>\n",
       "      <td>1999-12-01</td>\n",
       "      <td>33020.0</td>\n",
       "      <td>NaN</td>\n",
       "      <td>48922</td>\n",
       "      <td>0</td>\n",
       "      <td>6581.0</td>\n",
       "      <td>NaN</td>\n",
       "      <td>NaN</td>\n",
       "      <td>NaN</td>\n",
       "      <td>1</td>\n",
       "    </tr>\n",
       "    <tr>\n",
       "      <th>1</th>\n",
       "      <td>E09000002</td>\n",
       "      <td>barking and dagenham</td>\n",
       "      <td>1999-12-01</td>\n",
       "      <td>21480.0</td>\n",
       "      <td>NaN</td>\n",
       "      <td>23620</td>\n",
       "      <td>3</td>\n",
       "      <td>162444.0</td>\n",
       "      <td>NaN</td>\n",
       "      <td>NaN</td>\n",
       "      <td>NaN</td>\n",
       "      <td>1</td>\n",
       "    </tr>\n",
       "    <tr>\n",
       "      <th>2</th>\n",
       "      <td>E09000003</td>\n",
       "      <td>barnet</td>\n",
       "      <td>1999-12-01</td>\n",
       "      <td>19568.0</td>\n",
       "      <td>NaN</td>\n",
       "      <td>23128</td>\n",
       "      <td>8</td>\n",
       "      <td>313469.0</td>\n",
       "      <td>NaN</td>\n",
       "      <td>NaN</td>\n",
       "      <td>NaN</td>\n",
       "      <td>1</td>\n",
       "    </tr>\n",
       "    <tr>\n",
       "      <th>3</th>\n",
       "      <td>E09000004</td>\n",
       "      <td>bexley</td>\n",
       "      <td>1999-12-01</td>\n",
       "      <td>18621.0</td>\n",
       "      <td>NaN</td>\n",
       "      <td>21386</td>\n",
       "      <td>18</td>\n",
       "      <td>217458.0</td>\n",
       "      <td>NaN</td>\n",
       "      <td>NaN</td>\n",
       "      <td>NaN</td>\n",
       "      <td>1</td>\n",
       "    </tr>\n",
       "    <tr>\n",
       "      <th>4</th>\n",
       "      <td>E09000005</td>\n",
       "      <td>brent</td>\n",
       "      <td>1999-12-01</td>\n",
       "      <td>18532.0</td>\n",
       "      <td>NaN</td>\n",
       "      <td>20911</td>\n",
       "      <td>6</td>\n",
       "      <td>260317.0</td>\n",
       "      <td>NaN</td>\n",
       "      <td>NaN</td>\n",
       "      <td>NaN</td>\n",
       "      <td>1</td>\n",
       "    </tr>\n",
       "  </tbody>\n",
       "</table>\n",
       "</div>"
      ],
      "text/plain": [
       "        code                  area        date  median_salary  \\\n",
       "0  E09000001        city of london  1999-12-01        33020.0   \n",
       "1  E09000002  barking and dagenham  1999-12-01        21480.0   \n",
       "2  E09000003                barnet  1999-12-01        19568.0   \n",
       "3  E09000004                bexley  1999-12-01        18621.0   \n",
       "4  E09000005                 brent  1999-12-01        18532.0   \n",
       "\n",
       "   life_satisfaction mean_salary recycling_pct  population_size  \\\n",
       "0                NaN       48922             0           6581.0   \n",
       "1                NaN       23620             3         162444.0   \n",
       "2                NaN       23128             8         313469.0   \n",
       "3                NaN       21386            18         217458.0   \n",
       "4                NaN       20911             6         260317.0   \n",
       "\n",
       "   number_of_jobs  area_size  no_of_houses  borough_flag  \n",
       "0             NaN        NaN           NaN             1  \n",
       "1             NaN        NaN           NaN             1  \n",
       "2             NaN        NaN           NaN             1  \n",
       "3             NaN        NaN           NaN             1  \n",
       "4             NaN        NaN           NaN             1  "
      ]
     },
     "execution_count": 3,
     "metadata": {},
     "output_type": "execute_result"
    }
   ],
   "source": [
    "## Juntamos nuestra base de datos de la media salarial, con la de datos de Londres.\n",
    "\n",
    "df1 = extraer_datos(DOWNLOAD_ROOT, LONDON_HOUSING)\n",
    "df2 = extraer_datos(DOWNLOAD_ROOT, LONDON_SALARY)\n",
    "df2.head()\n",
    "\n"
   ]
  },
  {
   "cell_type": "code",
   "execution_count": 4,
   "metadata": {},
   "outputs": [
    {
     "data": {
      "text/plain": [
       "<bound method NDFrame.head of       median_salary                  area        date\n",
       "0           33020.0        city of london  1999-12-01\n",
       "1           21480.0  barking and dagenham  1999-12-01\n",
       "2           19568.0                barnet  1999-12-01\n",
       "3           18621.0                bexley  1999-12-01\n",
       "4           18532.0                 brent  1999-12-01\n",
       "...             ...                   ...         ...\n",
       "1066        30446.0         great britain  2019-12-01\n",
       "1067        30500.0     england and wales  2019-12-01\n",
       "1068        27434.0      northern ireland  2019-12-01\n",
       "1069        30000.0              scotland  2019-12-01\n",
       "1070        27500.0                 wales  2019-12-01\n",
       "\n",
       "[1071 rows x 3 columns]>"
      ]
     },
     "execution_count": 4,
     "metadata": {},
     "output_type": "execute_result"
    }
   ],
   "source": [
    "df2 = df2.filter(items=[\"median_salary\",\"area\",\"date\"])\n",
    "df2.head"
   ]
  },
  {
   "cell_type": "code",
   "execution_count": 5,
   "metadata": {},
   "outputs": [
    {
     "data": {
      "text/html": [
       "<div>\n",
       "<style scoped>\n",
       "    .dataframe tbody tr th:only-of-type {\n",
       "        vertical-align: middle;\n",
       "    }\n",
       "\n",
       "    .dataframe tbody tr th {\n",
       "        vertical-align: top;\n",
       "    }\n",
       "\n",
       "    .dataframe thead th {\n",
       "        text-align: right;\n",
       "    }\n",
       "</style>\n",
       "<table border=\"1\" class=\"dataframe\">\n",
       "  <thead>\n",
       "    <tr style=\"text-align: right;\">\n",
       "      <th></th>\n",
       "      <th>median_salary</th>\n",
       "      <th>area</th>\n",
       "      <th>date</th>\n",
       "      <th>average_price</th>\n",
       "      <th>code</th>\n",
       "      <th>houses_sold</th>\n",
       "      <th>no_of_crimes</th>\n",
       "      <th>borough_flag</th>\n",
       "    </tr>\n",
       "  </thead>\n",
       "  <tbody>\n",
       "    <tr>\n",
       "      <th>0</th>\n",
       "      <td>33020.0</td>\n",
       "      <td>city of london</td>\n",
       "      <td>1999-12-01</td>\n",
       "      <td>169309</td>\n",
       "      <td>E09000001</td>\n",
       "      <td>97.0</td>\n",
       "      <td>NaN</td>\n",
       "      <td>1</td>\n",
       "    </tr>\n",
       "    <tr>\n",
       "      <th>1</th>\n",
       "      <td>21480.0</td>\n",
       "      <td>barking and dagenham</td>\n",
       "      <td>1999-12-01</td>\n",
       "      <td>68812</td>\n",
       "      <td>E09000002</td>\n",
       "      <td>267.0</td>\n",
       "      <td>NaN</td>\n",
       "      <td>1</td>\n",
       "    </tr>\n",
       "    <tr>\n",
       "      <th>2</th>\n",
       "      <td>19568.0</td>\n",
       "      <td>barnet</td>\n",
       "      <td>1999-12-01</td>\n",
       "      <td>149510</td>\n",
       "      <td>E09000003</td>\n",
       "      <td>619.0</td>\n",
       "      <td>NaN</td>\n",
       "      <td>1</td>\n",
       "    </tr>\n",
       "    <tr>\n",
       "      <th>3</th>\n",
       "      <td>18621.0</td>\n",
       "      <td>bexley</td>\n",
       "      <td>1999-12-01</td>\n",
       "      <td>93905</td>\n",
       "      <td>E09000004</td>\n",
       "      <td>460.0</td>\n",
       "      <td>NaN</td>\n",
       "      <td>1</td>\n",
       "    </tr>\n",
       "    <tr>\n",
       "      <th>4</th>\n",
       "      <td>18532.0</td>\n",
       "      <td>brent</td>\n",
       "      <td>1999-12-01</td>\n",
       "      <td>123398</td>\n",
       "      <td>E09000005</td>\n",
       "      <td>395.0</td>\n",
       "      <td>NaN</td>\n",
       "      <td>1</td>\n",
       "    </tr>\n",
       "  </tbody>\n",
       "</table>\n",
       "</div>"
      ],
      "text/plain": [
       "   median_salary                  area        date  average_price       code  \\\n",
       "0        33020.0        city of london  1999-12-01         169309  E09000001   \n",
       "1        21480.0  barking and dagenham  1999-12-01          68812  E09000002   \n",
       "2        19568.0                barnet  1999-12-01         149510  E09000003   \n",
       "3        18621.0                bexley  1999-12-01          93905  E09000004   \n",
       "4        18532.0                 brent  1999-12-01         123398  E09000005   \n",
       "\n",
       "   houses_sold  no_of_crimes  borough_flag  \n",
       "0         97.0           NaN             1  \n",
       "1        267.0           NaN             1  \n",
       "2        619.0           NaN             1  \n",
       "3        460.0           NaN             1  \n",
       "4        395.0           NaN             1  "
      ]
     },
     "execution_count": 5,
     "metadata": {},
     "output_type": "execute_result"
    }
   ],
   "source": [
    "data = pd.merge(df2,df1)\n",
    "data.head()"
   ]
  },
  {
   "cell_type": "code",
   "execution_count": 6,
   "metadata": {},
   "outputs": [
    {
     "name": "stdout",
     "output_type": "stream",
     "text": [
      "<class 'pandas.core.frame.DataFrame'>\n",
      "Int64Index: 903 entries, 0 to 902\n",
      "Data columns (total 8 columns):\n",
      " #   Column         Non-Null Count  Dtype  \n",
      "---  ------         --------------  -----  \n",
      " 0   median_salary  881 non-null    float64\n",
      " 1   area           903 non-null    object \n",
      " 2   date           903 non-null    object \n",
      " 3   average_price  903 non-null    int64  \n",
      " 4   code           903 non-null    object \n",
      " 5   houses_sold    860 non-null    float64\n",
      " 6   no_of_crimes   617 non-null    float64\n",
      " 7   borough_flag   903 non-null    int64  \n",
      "dtypes: float64(3), int64(2), object(3)\n",
      "memory usage: 63.5+ KB\n"
     ]
    }
   ],
   "source": [
    "data.info()"
   ]
  },
  {
   "cell_type": "code",
   "execution_count": 7,
   "metadata": {},
   "outputs": [
    {
     "data": {
      "text/plain": [
       "city of london            21\n",
       "westminster               21\n",
       "newham                    21\n",
       "redbridge                 21\n",
       "richmond upon thames      21\n",
       "southwark                 21\n",
       "sutton                    21\n",
       "tower hamlets             21\n",
       "waltham forest            21\n",
       "wandsworth                21\n",
       "north east                21\n",
       "lewisham                  21\n",
       "north west                21\n",
       "east midlands             21\n",
       "west midlands             21\n",
       "london                    21\n",
       "south east                21\n",
       "south west                21\n",
       "inner london              21\n",
       "outer london              21\n",
       "merton                    21\n",
       "lambeth                   21\n",
       "barking and dagenham      21\n",
       "greenwich                 21\n",
       "barnet                    21\n",
       "bexley                    21\n",
       "brent                     21\n",
       "bromley                   21\n",
       "camden                    21\n",
       "croydon                   21\n",
       "ealing                    21\n",
       "enfield                   21\n",
       "hackney                   21\n",
       "kingston upon thames      21\n",
       "hammersmith and fulham    21\n",
       "haringey                  21\n",
       "harrow                    21\n",
       "havering                  21\n",
       "hillingdon                21\n",
       "hounslow                  21\n",
       "islington                 21\n",
       "kensington and chelsea    21\n",
       "england                   21\n",
       "Name: area, dtype: int64"
      ]
     },
     "execution_count": 7,
     "metadata": {},
     "output_type": "execute_result"
    }
   ],
   "source": [
    "# Una forma muy común para saber que tipo de datos contiene alguna variable de tipo objeto, es contar sus valores, ejemplo:\n",
    "data[\"area\"].value_counts()"
   ]
  },
  {
   "cell_type": "code",
   "execution_count": null,
   "metadata": {},
   "outputs": [],
   "source": []
  },
  {
   "cell_type": "code",
   "execution_count": 8,
   "metadata": {},
   "outputs": [
    {
     "data": {
      "text/html": [
       "<div>\n",
       "<style scoped>\n",
       "    .dataframe tbody tr th:only-of-type {\n",
       "        vertical-align: middle;\n",
       "    }\n",
       "\n",
       "    .dataframe tbody tr th {\n",
       "        vertical-align: top;\n",
       "    }\n",
       "\n",
       "    .dataframe thead th {\n",
       "        text-align: right;\n",
       "    }\n",
       "</style>\n",
       "<table border=\"1\" class=\"dataframe\">\n",
       "  <thead>\n",
       "    <tr style=\"text-align: right;\">\n",
       "      <th></th>\n",
       "      <th>median_salary</th>\n",
       "      <th>average_price</th>\n",
       "      <th>houses_sold</th>\n",
       "      <th>no_of_crimes</th>\n",
       "      <th>borough_flag</th>\n",
       "    </tr>\n",
       "  </thead>\n",
       "  <tbody>\n",
       "    <tr>\n",
       "      <th>count</th>\n",
       "      <td>881.000000</td>\n",
       "      <td>9.030000e+02</td>\n",
       "      <td>860.000000</td>\n",
       "      <td>617.000000</td>\n",
       "      <td>903.000000</td>\n",
       "    </tr>\n",
       "    <tr>\n",
       "      <th>mean</th>\n",
       "      <td>28789.284904</td>\n",
       "      <td>3.099169e+05</td>\n",
       "      <td>3853.289535</td>\n",
       "      <td>2038.090762</td>\n",
       "      <td>0.767442</td>\n",
       "    </tr>\n",
       "    <tr>\n",
       "      <th>std</th>\n",
       "      <td>6508.321987</td>\n",
       "      <td>1.875274e+05</td>\n",
       "      <td>12917.661579</td>\n",
       "      <td>879.517578</td>\n",
       "      <td>0.422697</td>\n",
       "    </tr>\n",
       "    <tr>\n",
       "      <th>min</th>\n",
       "      <td>15684.000000</td>\n",
       "      <td>4.829800e+04</td>\n",
       "      <td>6.000000</td>\n",
       "      <td>0.000000</td>\n",
       "      <td>0.000000</td>\n",
       "    </tr>\n",
       "    <tr>\n",
       "      <th>25%</th>\n",
       "      <td>24582.000000</td>\n",
       "      <td>1.892870e+05</td>\n",
       "      <td>246.000000</td>\n",
       "      <td>1542.000000</td>\n",
       "      <td>1.000000</td>\n",
       "    </tr>\n",
       "    <tr>\n",
       "      <th>50%</th>\n",
       "      <td>28284.000000</td>\n",
       "      <td>2.608930e+05</td>\n",
       "      <td>351.000000</td>\n",
       "      <td>2008.000000</td>\n",
       "      <td>1.000000</td>\n",
       "    </tr>\n",
       "    <tr>\n",
       "      <th>75%</th>\n",
       "      <td>31589.000000</td>\n",
       "      <td>3.875970e+05</td>\n",
       "      <td>626.000000</td>\n",
       "      <td>2402.000000</td>\n",
       "      <td>1.000000</td>\n",
       "    </tr>\n",
       "    <tr>\n",
       "      <th>max</th>\n",
       "      <td>61636.000000</td>\n",
       "      <td>1.364185e+06</td>\n",
       "      <td>119458.000000</td>\n",
       "      <td>7461.000000</td>\n",
       "      <td>1.000000</td>\n",
       "    </tr>\n",
       "  </tbody>\n",
       "</table>\n",
       "</div>"
      ],
      "text/plain": [
       "       median_salary  average_price    houses_sold  no_of_crimes  borough_flag\n",
       "count     881.000000   9.030000e+02     860.000000    617.000000    903.000000\n",
       "mean    28789.284904   3.099169e+05    3853.289535   2038.090762      0.767442\n",
       "std      6508.321987   1.875274e+05   12917.661579    879.517578      0.422697\n",
       "min     15684.000000   4.829800e+04       6.000000      0.000000      0.000000\n",
       "25%     24582.000000   1.892870e+05     246.000000   1542.000000      1.000000\n",
       "50%     28284.000000   2.608930e+05     351.000000   2008.000000      1.000000\n",
       "75%     31589.000000   3.875970e+05     626.000000   2402.000000      1.000000\n",
       "max     61636.000000   1.364185e+06  119458.000000   7461.000000      1.000000"
      ]
     },
     "execution_count": 8,
     "metadata": {},
     "output_type": "execute_result"
    }
   ],
   "source": [
    "data.describe()"
   ]
  },
  {
   "cell_type": "markdown",
   "metadata": {},
   "source": [
    "La tabla anterior trae muchos 0 debidoa que python trae notacion cientifica, por lo cual haremos un arreglo"
   ]
  },
  {
   "cell_type": "code",
   "execution_count": 9,
   "metadata": {},
   "outputs": [
    {
     "data": {
      "text/html": [
       "<div>\n",
       "<style scoped>\n",
       "    .dataframe tbody tr th:only-of-type {\n",
       "        vertical-align: middle;\n",
       "    }\n",
       "\n",
       "    .dataframe tbody tr th {\n",
       "        vertical-align: top;\n",
       "    }\n",
       "\n",
       "    .dataframe thead th {\n",
       "        text-align: right;\n",
       "    }\n",
       "</style>\n",
       "<table border=\"1\" class=\"dataframe\">\n",
       "  <thead>\n",
       "    <tr style=\"text-align: right;\">\n",
       "      <th></th>\n",
       "      <th>median_salary</th>\n",
       "      <th>average_price</th>\n",
       "      <th>houses_sold</th>\n",
       "      <th>no_of_crimes</th>\n",
       "      <th>borough_flag</th>\n",
       "    </tr>\n",
       "  </thead>\n",
       "  <tbody>\n",
       "    <tr>\n",
       "      <th>count</th>\n",
       "      <td>881.00</td>\n",
       "      <td>903.00</td>\n",
       "      <td>860.00</td>\n",
       "      <td>617.00</td>\n",
       "      <td>903.00</td>\n",
       "    </tr>\n",
       "    <tr>\n",
       "      <th>mean</th>\n",
       "      <td>28,789.28</td>\n",
       "      <td>309,916.87</td>\n",
       "      <td>3,853.29</td>\n",
       "      <td>2,038.09</td>\n",
       "      <td>0.77</td>\n",
       "    </tr>\n",
       "    <tr>\n",
       "      <th>std</th>\n",
       "      <td>6,508.32</td>\n",
       "      <td>187,527.43</td>\n",
       "      <td>12,917.66</td>\n",
       "      <td>879.52</td>\n",
       "      <td>0.42</td>\n",
       "    </tr>\n",
       "    <tr>\n",
       "      <th>min</th>\n",
       "      <td>15,684.00</td>\n",
       "      <td>48,298.00</td>\n",
       "      <td>6.00</td>\n",
       "      <td>0.00</td>\n",
       "      <td>0.00</td>\n",
       "    </tr>\n",
       "    <tr>\n",
       "      <th>25%</th>\n",
       "      <td>24,582.00</td>\n",
       "      <td>189,287.00</td>\n",
       "      <td>246.00</td>\n",
       "      <td>1,542.00</td>\n",
       "      <td>1.00</td>\n",
       "    </tr>\n",
       "    <tr>\n",
       "      <th>50%</th>\n",
       "      <td>28,284.00</td>\n",
       "      <td>260,893.00</td>\n",
       "      <td>351.00</td>\n",
       "      <td>2,008.00</td>\n",
       "      <td>1.00</td>\n",
       "    </tr>\n",
       "    <tr>\n",
       "      <th>75%</th>\n",
       "      <td>31,589.00</td>\n",
       "      <td>387,597.00</td>\n",
       "      <td>626.00</td>\n",
       "      <td>2,402.00</td>\n",
       "      <td>1.00</td>\n",
       "    </tr>\n",
       "    <tr>\n",
       "      <th>max</th>\n",
       "      <td>61,636.00</td>\n",
       "      <td>1,364,185.00</td>\n",
       "      <td>119,458.00</td>\n",
       "      <td>7,461.00</td>\n",
       "      <td>1.00</td>\n",
       "    </tr>\n",
       "  </tbody>\n",
       "</table>\n",
       "</div>"
      ],
      "text/plain": [
       "       median_salary  average_price  houses_sold  no_of_crimes  borough_flag\n",
       "count         881.00         903.00       860.00        617.00        903.00\n",
       "mean       28,789.28     309,916.87     3,853.29      2,038.09          0.77\n",
       "std         6,508.32     187,527.43    12,917.66        879.52          0.42\n",
       "min        15,684.00      48,298.00         6.00          0.00          0.00\n",
       "25%        24,582.00     189,287.00       246.00      1,542.00          1.00\n",
       "50%        28,284.00     260,893.00       351.00      2,008.00          1.00\n",
       "75%        31,589.00     387,597.00       626.00      2,402.00          1.00\n",
       "max        61,636.00   1,364,185.00   119,458.00      7,461.00          1.00"
      ]
     },
     "execution_count": 9,
     "metadata": {},
     "output_type": "execute_result"
    }
   ],
   "source": [
    "# esto nos mostrara solo dos decimales\n",
    "pd.options.display.float_format = \"{:,.2f}\".format\n",
    "data.describe()"
   ]
  },
  {
   "cell_type": "code",
   "execution_count": 10,
   "metadata": {},
   "outputs": [
    {
     "data": {
      "image/png": "[encoded data removed]",
      "text/plain": [
       "<Figure size 1500x1000 with 6 Axes>"
      ]
     },
     "metadata": {},
     "output_type": "display_data"
    }
   ],
   "source": [
    "# # Modificaciones esteticas de los hsistohramas\n",
    "%matplotlib inline\n",
    "data.hist(bins = 50, figsize=(15,10))\n",
    "plt.show()"
   ]
  },
  {
   "cell_type": "markdown",
   "metadata": {},
   "source": [
    "## <span style=\"color:green\">3. CREAR SET DE PRUEBA Y ENTRENAMIENTO </span>"
   ]
  },
  {
   "cell_type": "markdown",
   "metadata": {},
   "source": [
    "a continuacion se crea un set de entrenamiento del .3 es decir 30 porciento usando la semilla de generacion 45"
   ]
  },
  {
   "cell_type": "code",
   "execution_count": 11,
   "metadata": {},
   "outputs": [],
   "source": [
    "training_set, test_set = train_test_split(data, test_size = .3 , random_state=45)"
   ]
  },
  {
   "cell_type": "code",
   "execution_count": 13,
   "metadata": {},
   "outputs": [
    {
     "name": "stdout",
     "output_type": "stream",
     "text": [
      "632\n",
      "271\n"
     ]
    }
   ],
   "source": [
    "print(len(training_set))\n",
    "print(len(test_set))"
   ]
  },
  {
   "cell_type": "code",
   "execution_count": 16,
   "metadata": {},
   "outputs": [],
   "source": [
    "# Categorizacion de la variable en 5 niveles\n",
    "data[\"salary_cut\"] = pd.cut(data[\"median_salary\"],\n",
    "                            bins=[0,10000,20000,30000,40000,np.inf],\n",
    "                            labels = [1,2,3,4,5])"
   ]
  },
  {
   "cell_type": "code",
   "execution_count": 17,
   "metadata": {},
   "outputs": [
    {
     "data": {
      "text/plain": [
       "<AxesSubplot:>"
      ]
     },
     "execution_count": 17,
     "metadata": {},
     "output_type": "execute_result"
    },
    {
     "data": {
      "image/png": "[encoded data removed]",
      "text/plain": [
       "<Figure size 640x480 with 1 Axes>"
      ]
     },
     "metadata": {},
     "output_type": "display_data"
    }
   ],
   "source": [
    "data[\"salary_cut\"].hist()"
   ]
  },
  {
   "cell_type": "code",
   "execution_count": 21,
   "metadata": {},
   "outputs": [
    {
     "data": {
      "text/plain": [
       "3    496\n",
       "4    287\n",
       "2     59\n",
       "5     39\n",
       "1      0\n",
       "Name: salary_cut, dtype: int64"
      ]
     },
     "execution_count": 21,
     "metadata": {},
     "output_type": "execute_result"
    }
   ],
   "source": [
    "data[\"salary_cut\"].value_counts()"
   ]
  },
  {
   "cell_type": "markdown",
   "metadata": {},
   "source": [
    "No hay quien gane menos de 10mil libras"
   ]
  }
 ],
 "metadata": {
  "kernelspec": {
   "display_name": "Python 3 (ipykernel)",
   "language": "python",
   "name": "python3"
  },
  "language_info": {
   "codemirror_mode": {
    "name": "ipython",
    "version": 3
   },
   "file_extension": ".py",
   "mimetype": "text/x-python",
   "name": "python",
   "nbconvert_exporter": "python",
   "pygments_lexer": "ipython3",
   "version": "3.9.13"
  }
 },
 "nbformat": 4,
 "nbformat_minor": 4
}
