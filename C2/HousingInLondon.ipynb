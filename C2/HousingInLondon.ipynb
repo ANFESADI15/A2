{
 "cells": [
  {
   "cell_type": "markdown",
   "metadata": {},
   "source": [
    "### Proyecto de Machine Learning"
   ]
  },
  {
   "cell_type": "markdown",
   "metadata": {},
   "source": [
    "👀Verifica que las librerias esten instaladas \n",
    "\n",
    "En este caso se realizará un modelo para predecir la media de precios en las viviendas de los diferentes municipos de Londres, Reino Unido."
   ]
  },
  {
   "cell_type": "code",
   "execution_count": 1,
   "metadata": {},
   "outputs": [],
   "source": [
    "import pandas as pd\n",
    "import numpy as pd\n",
    "import matplotlib.pyplot as plt\n",
    "import os"
   ]
  },
  {
   "cell_type": "markdown",
   "metadata": {
    "tags": []
   },
   "source": [
    "## <span style=\"color:green\">1. Descargar los datos</span>\n",
    "\n",
    "Las bases de datos para este proyecto se puede encontrar en este enlace: https://www.kaggle.com/justinas/housing-in-london\n",
    "\n",
    "También se pueden consultar todas las bases de datos de este curso en GitHub: https://github.com/ANFESADI15/A2/blob/main/C2/archive/housing_in_london_yearly_variables.csv\n",
    "\n",
    "- housing_in_london_yearly_variables.csv, con los datos que necesitamos para hacer la regresión.\n",
    "- London_Borough_Excluding_MHW.shp, con los datos que necesitamos para graficar Londres.\n",
    "- Capitulo_2/housing_in_london_monthly_variables.csv, con los datos de la media salarial"
   ]
  },
  {
   "cell_type": "code",
   "execution_count": null,
   "metadata": {},
   "outputs": [],
   "source": [
    "## Definimos una función para extraer datos.\n",
    "#DOWNLOAD_ROOT es la base del GitHub donde vamos a estar descargando las bases de datos.\n",
    "DOWNLOAD_ROOT = \"https://github.com/ANFESADI15/A2/blob/main/C2/\"\n",
    "#Complementos con la dirección especifica de la base de datos que queremos.\n",
    "LONDON_SALARY = \"archive/housing_in_london_yearly_variables.csv\"\n",
    "LONDON_HOUSING = \"archive/housing_in_london_monthly_variables.csv\"\n",
    "LONDON_MAP = os.path.abspath(\"\") + \"\\map\\London_Borough_Excluding_MHW.shp\"\n"
   ]
  }
 ],
 "metadata": {
  "kernelspec": {
   "display_name": "Python 3 (ipykernel)",
   "language": "python",
   "name": "python3"
  },
  "language_info": {
   "codemirror_mode": {
    "name": "ipython",
    "version": 3
   },
   "file_extension": ".py",
   "mimetype": "text/x-python",
   "name": "python",
   "nbconvert_exporter": "python",
   "pygments_lexer": "ipython3",
   "version": "3.9.13"
  }
 },
 "nbformat": 4,
 "nbformat_minor": 4
}
